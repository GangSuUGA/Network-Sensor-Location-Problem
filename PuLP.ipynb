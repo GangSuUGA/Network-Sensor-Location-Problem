{
 "cells": [
  {
   "cell_type": "markdown",
   "id": "b2a860f3",
   "metadata": {},
   "source": [
    "## Resources Link:"
   ]
  },
  {
   "cell_type": "markdown",
   "id": "5fa03b07",
   "metadata": {},
   "source": [
    "- Tutorial of [**Mixed-integer Programming: A Guide to Computational Decision-making**](https://www.toptal.com/algorithms/mixed-integer-programming) by Shanglun Wang\n",
    "- S. Mitchell, [**An Introduction to pulp for Python Programmers**](https://github.com/coin-or/pulp/blob/master/doc/KPyCon2009/PulpForPythonProgrammers.pdf), 2009 "
   ]
  },
  {
   "cell_type": "code",
   "execution_count": 3,
   "id": "49aa7c8d",
   "metadata": {},
   "outputs": [
    {
     "name": "stdout",
     "output_type": "stream",
     "text": [
      "Collecting pulp\n",
      "  Downloading PuLP-2.5.0-py3-none-any.whl (41.2 MB)\n",
      "Installing collected packages: pulp\n",
      "Successfully installed pulp-2.5.0\n"
     ]
    }
   ],
   "source": [
    "!pip install -U pulp"
   ]
  },
  {
   "cell_type": "markdown",
   "id": "72728bef",
   "metadata": {},
   "source": [
    "Here is an example in tutorial via PuLP (a popular operations research modeling library for Python). \n",
    "You can find information about [**PuLP here**](https://github.com/coin-or/pulp). "
   ]
  },
  {
   "cell_type": "markdown",
   "id": "ae482de5",
   "metadata": {},
   "source": [
    "## The simple example of coding"
   ]
  },
  {
   "cell_type": "code",
   "execution_count": 4,
   "id": "49a7df73",
   "metadata": {},
   "outputs": [
    {
     "name": "stdout",
     "output_type": "stream",
     "text": [
      "Optimal\n",
      "a 0.0\n",
      "b 1.0\n",
      "c 0.0\n",
      "d 1.0\n"
     ]
    }
   ],
   "source": [
    "import pulp as pl\n",
    "\n",
    "# declare some variables\n",
    "# each variable is a binary variable that is either 0 or 1\n",
    "# 1 means the item will go into the knapsack\n",
    "a = pl.LpVariable(\"a\", 0, 1, pl.LpInteger)\n",
    "b = pl.LpVariable(\"b\", 0, 1, pl.LpInteger)\n",
    "c = pl.LpVariable(\"c\", 0, 1, pl.LpInteger)\n",
    "d = pl.LpVariable(\"d\", 0, 1, pl.LpInteger)\n",
    "\n",
    "# define the problem\n",
    "prob = pl.LpProblem(\"knapsack\", pl.LpMaximize)   ####################\n",
    "\n",
    "# objective function - maximize value of objects in knapsack\n",
    "prob += 5 * a + 7 * b + 2 * c + 10 * d                 #########################\n",
    "\n",
    "# constraint - weight of objects cannot exceed 15\n",
    "prob += 2 * a + 4 * b + 7 * c + 10 * d <= 15             #########################\n",
    "\n",
    "status = prob.solve()  # solve using the default solver, which is cbc\n",
    "print(pl.LpStatus[status])  # print the human-readable status\n",
    "\n",
    "# print the values\n",
    "print(\"a\", pl.value(a))\n",
    "print(\"b\", pl.value(b))\n",
    "print(\"c\", pl.value(c))\n",
    "print(\"d\", pl.value(d))"
   ]
  },
  {
   "cell_type": "markdown",
   "id": "e9197185",
   "metadata": {},
   "source": [
    "# But I think below one is not a good example to learn. "
   ]
  },
  {
   "cell_type": "markdown",
   "id": "61719372",
   "metadata": {},
   "source": [
    "As the management of the factory, we will want to **minimize labor costs**, but we want to **ensure sufficient coverage for every shift** to meet production demand."
   ]
  },
  {
   "cell_type": "markdown",
   "id": "1f987db3",
   "metadata": {},
   "source": [
    "Suppose we have five shifts with the following staffing demands:"
   ]
  },
  {
   "cell_type": "markdown",
   "id": "0a53ee8e",
   "metadata": {},
   "source": [
    "Shift1 | Shift2 | Shift3 | Shift4 | Shift5 \n",
    "-------|--------|--------|--------|-------\n",
    "1 person|4 people|3 people|5 people|2 people"
   ]
  },
  {
   "cell_type": "markdown",
   "id": "cc11ce87",
   "metadata": {},
   "source": [
    "And, suppose we have the following workers:"
   ]
  },
  {
   "cell_type": "markdown",
   "id": "dc2e227a",
   "metadata": {},
   "source": [
    "Worker Name | Availability | Cost per Shift($)  \n",
    "-------|--------|--------\n",
    "Melisandre|1, 2, 5|20\n",
    "Bran | 2,3,4,5 | 15 \n",
    "Cersei|3,4|35\n",
    "Daenerys|4,5|35\n",
    "Theon |2,4,5|10 \n",
    "Jon|1,3,5|25\n",
    "Tyrion|2,4,5|30\n",
    "Jaime|2,3,5|20\n",
    "Arya|1,2,4|20"
   ]
  },
  {
   "cell_type": "markdown",
   "id": "0a692362",
   "metadata": {},
   "source": [
    "## Coding Our Solution"
   ]
  },
  {
   "cell_type": "markdown",
   "id": "d4fe9130",
   "metadata": {},
   "source": [
    "The coding of our solution is fairly straightforward. First, we will want to define our data:"
   ]
  },
  {
   "cell_type": "code",
   "execution_count": 9,
   "id": "ba8e7d7f",
   "metadata": {},
   "outputs": [],
   "source": [
    "import pulp as pl\n",
    "import collections as cl\n",
    "\n",
    "# data\n",
    "shift_requirements = [1, 4, 3, 5, 2]\n",
    "workers = {\n",
    "    \"Melisandre\": {\n",
    "        \"availability\": [0, 1, 4],\n",
    "        \"cost\": 20\n",
    "    },\n",
    "    \"Bran\": {\n",
    "        \"availability\": [1, 2, 3, 4],\n",
    "        \"cost\": 15\n",
    "    },\n",
    "    \"Cersei\": {\n",
    "        \"availability\": [2, 3],\n",
    "        \"cost\": 35\n",
    "    },\n",
    "    \"Daenerys\": {\n",
    "        \"availability\": [3, 4],\n",
    "        \"cost\": 35\n",
    "    },\n",
    "    \"Theon\": {\n",
    "        \"availability\": [1, 3, 4],\n",
    "        \"cost\": 10\n",
    "    },\n",
    "    \"Jon\": {\n",
    "        \"availability\": [0, 2, 4],\n",
    "        \"cost\": 25\n",
    "    },\n",
    "    \"Tyrion\": {\n",
    "        \"availability\": [1, 3, 4],\n",
    "        \"cost\": 30\n",
    "    },\n",
    "    \"Jaime\": {\n",
    "        \"availability\": [1, 2, 4],\n",
    "        \"cost\": 20\n",
    "    },\n",
    "    \"Arya\": {\n",
    "        \"availability\": [0, 1, 3],\n",
    "        \"cost\": 20\n",
    "    }\n",
    "}"
   ]
  },
  {
   "cell_type": "markdown",
   "id": "130b77e0",
   "metadata": {},
   "source": [
    "Next, we will want to define the model:"
   ]
  },
  {
   "cell_type": "code",
   "execution_count": 10,
   "id": "15e6cf2b",
   "metadata": {},
   "outputs": [],
   "source": [
    "# define the model: we want to minimize the cost\n",
    "prob = pl.LpProblem(\"scheduling\", pl.LpMinimize)  ##################\n",
    "\n",
    "# some model variables\n",
    "cost = []\n",
    "vars_by_shift = cl.defaultdict(list)\n",
    "\n",
    "for worker, info in workers.items():\n",
    "    for shift in info['availability']:\n",
    "        worker_var = pl.LpVariable(\"%s_%s\" % (worker, shift), 0, 1, pl.LpInteger)\n",
    "        vars_by_shift[shift].append(worker_var)\n",
    "        cost.append(worker_var * info['cost'])   \n",
    "\n",
    "# set the objective to be the sum of cost\n",
    "prob += sum(cost)                  ######################\n",
    "\n",
    "# set the shift requirements\n",
    "for shift, requirement in enumerate(shift_requirements):\n",
    "    prob += sum(vars_by_shift[shift]) >= requirement               ######################"
   ]
  },
  {
   "cell_type": "markdown",
   "id": "4810a5e3",
   "metadata": {},
   "source": [
    "And now we just ask it to solve and print the results!"
   ]
  },
  {
   "cell_type": "code",
   "execution_count": 12,
   "id": "1fe2bd03",
   "metadata": {},
   "outputs": [
    {
     "name": "stdout",
     "output_type": "stream",
     "text": [
      "Result: Optimal\n",
      "Shift: 0 workers: Melisandre_0\n",
      "Shift: 1 workers: Bran_1, Theon_1, Jaime_1, Arya_1\n",
      "Shift: 2 workers: Bran_2, Jon_2, Jaime_2\n",
      "Shift: 3 workers: Bran_3, Cersei_3, Theon_3, Tyrion_3, Arya_3\n",
      "Shift: 4 workers: Bran_4, Theon_4\n"
     ]
    }
   ],
   "source": [
    "status = prob.solve()                ####################\n",
    "print(\"Result:\", pl.LpStatus[status])       #######################\n",
    "\n",
    "results = []\n",
    "for shift, vars in vars_by_shift.items():\n",
    "    results.append({\n",
    "        \"shift\": shift,\n",
    "        \"workers\": [var.name for var in vars if var.varValue == 1],\n",
    "    })\n",
    "\n",
    "for result in sorted(results, key=lambda x: x['shift']):\n",
    "    print(\"Shift:\", result['shift'], 'workers:', ', '.join(result['workers']))\n"
   ]
  },
  {
   "cell_type": "code",
   "execution_count": null,
   "id": "20c2c215",
   "metadata": {},
   "outputs": [],
   "source": []
  }
 ],
 "metadata": {
  "kernelspec": {
   "display_name": "Python 3",
   "language": "python",
   "name": "python3"
  },
  "language_info": {
   "codemirror_mode": {
    "name": "ipython",
    "version": 3
   },
   "file_extension": ".py",
   "mimetype": "text/x-python",
   "name": "python",
   "nbconvert_exporter": "python",
   "pygments_lexer": "ipython3",
   "version": "3.8.10"
  }
 },
 "nbformat": 4,
 "nbformat_minor": 5
}
